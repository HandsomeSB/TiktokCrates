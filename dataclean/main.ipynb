{
 "cells": [
  {
   "cell_type": "code",
   "execution_count": 77,
   "id": "0ddce211",
   "metadata": {},
   "outputs": [],
   "source": [
    "import pandas as pd\n",
    "import numpy as np\n",
    "from scipy.special import softmax"
   ]
  },
  {
   "cell_type": "code",
   "execution_count": 78,
   "id": "d317b9bb",
   "metadata": {},
   "outputs": [],
   "source": [
    "legendary_df = pd.read_json('../data/raw_legendary.json')\n",
    "normal_df = pd.read_json('../data/raw_normal.json')\n",
    "\n",
    "normal_df = normal_df[[\"id\", \"diggCount\", \"shareCount\", \"playCount\", \"commentCount\", \"collectCount\", \"webVideoUrl\"]]\n",
    "legendary_df = legendary_df[[\"id\", \"diggCount\", \"shareCount\", \"playCount\", \"commentCount\", \"collectCount\", \"webVideoUrl\"]]"
   ]
  },
  {
   "cell_type": "code",
   "execution_count": 79,
   "id": "3041b726",
   "metadata": {},
   "outputs": [
    {
     "data": {
      "text/html": [
       "<div>\n",
       "<style scoped>\n",
       "    .dataframe tbody tr th:only-of-type {\n",
       "        vertical-align: middle;\n",
       "    }\n",
       "\n",
       "    .dataframe tbody tr th {\n",
       "        vertical-align: top;\n",
       "    }\n",
       "\n",
       "    .dataframe thead th {\n",
       "        text-align: right;\n",
       "    }\n",
       "</style>\n",
       "<table border=\"1\" class=\"dataframe\">\n",
       "  <thead>\n",
       "    <tr style=\"text-align: right;\">\n",
       "      <th></th>\n",
       "      <th>id</th>\n",
       "      <th>diggCount</th>\n",
       "      <th>shareCount</th>\n",
       "      <th>playCount</th>\n",
       "      <th>commentCount</th>\n",
       "      <th>collectCount</th>\n",
       "      <th>webVideoUrl</th>\n",
       "    </tr>\n",
       "  </thead>\n",
       "  <tbody>\n",
       "    <tr>\n",
       "      <th>0</th>\n",
       "      <td>7511483287160818688</td>\n",
       "      <td>816</td>\n",
       "      <td>74</td>\n",
       "      <td>7474</td>\n",
       "      <td>92</td>\n",
       "      <td>32</td>\n",
       "      <td>https://www.tiktok.com/@brooklynnets/video/751...</td>\n",
       "    </tr>\n",
       "    <tr>\n",
       "      <th>1</th>\n",
       "      <td>7348013122038270976</td>\n",
       "      <td>450200</td>\n",
       "      <td>160500</td>\n",
       "      <td>12100000</td>\n",
       "      <td>10200</td>\n",
       "      <td>109200</td>\n",
       "      <td>https://www.tiktok.com/@officalmemehubaccount1...</td>\n",
       "    </tr>\n",
       "    <tr>\n",
       "      <th>2</th>\n",
       "      <td>7511451058015587328</td>\n",
       "      <td>18500</td>\n",
       "      <td>3977</td>\n",
       "      <td>89400</td>\n",
       "      <td>182</td>\n",
       "      <td>1983</td>\n",
       "      <td>https://www.tiktok.com/@camm4x/video/751145105...</td>\n",
       "    </tr>\n",
       "    <tr>\n",
       "      <th>3</th>\n",
       "      <td>7511403705053285376</td>\n",
       "      <td>1741</td>\n",
       "      <td>357</td>\n",
       "      <td>63300</td>\n",
       "      <td>19</td>\n",
       "      <td>155</td>\n",
       "      <td>https://www.tiktok.com/@memehub8805/video/7511...</td>\n",
       "    </tr>\n",
       "    <tr>\n",
       "      <th>4</th>\n",
       "      <td>7495075721396669440</td>\n",
       "      <td>1300000</td>\n",
       "      <td>1000000</td>\n",
       "      <td>13800000</td>\n",
       "      <td>23000</td>\n",
       "      <td>190000</td>\n",
       "      <td>https://www.tiktok.com/@loverbboiiii/video/749...</td>\n",
       "    </tr>\n",
       "  </tbody>\n",
       "</table>\n",
       "</div>"
      ],
      "text/plain": [
       "                    id  diggCount  shareCount  playCount  commentCount  \\\n",
       "0  7511483287160818688        816          74       7474            92   \n",
       "1  7348013122038270976     450200      160500   12100000         10200   \n",
       "2  7511451058015587328      18500        3977      89400           182   \n",
       "3  7511403705053285376       1741         357      63300            19   \n",
       "4  7495075721396669440    1300000     1000000   13800000         23000   \n",
       "\n",
       "   collectCount                                        webVideoUrl  \n",
       "0            32  https://www.tiktok.com/@brooklynnets/video/751...  \n",
       "1        109200  https://www.tiktok.com/@officalmemehubaccount1...  \n",
       "2          1983  https://www.tiktok.com/@camm4x/video/751145105...  \n",
       "3           155  https://www.tiktok.com/@memehub8805/video/7511...  \n",
       "4        190000  https://www.tiktok.com/@loverbboiiii/video/749...  "
      ]
     },
     "execution_count": 79,
     "metadata": {},
     "output_type": "execute_result"
    }
   ],
   "source": [
    "normal_df.head()"
   ]
  },
  {
   "cell_type": "code",
   "execution_count": 80,
   "id": "8f17e931",
   "metadata": {},
   "outputs": [],
   "source": [
    "cols = [\"diggCount\", \"shareCount\", \"playCount\", \"commentCount\", \"collectCount\"]\n",
    "\n",
    "normal_df[cols] = (normal_df[cols] - normal_df[cols].min()) / (normal_df[cols].max() - normal_df[cols].min())\n",
    "\n",
    "weights = [1, 1, 1, 1, 1]\n",
    "normal_df[\"score\"] = normal_df[cols].dot(weights)"
   ]
  },
  {
   "cell_type": "code",
   "execution_count": 81,
   "id": "b1d7bb7a",
   "metadata": {},
   "outputs": [],
   "source": [
    "# Morph to normal\n",
    "def loss(weights, df, cols):\n",
    "    score = df[cols].dot(weights)\n",
    "    score = np.array(score)\n",
    "    pass\n",
    "    \n"
   ]
  },
  {
   "cell_type": "code",
   "execution_count": 82,
   "id": "c1721554",
   "metadata": {},
   "outputs": [
    {
     "name": "stdout",
     "output_type": "stream",
     "text": [
      "(224, 8)\n",
      "(125, 8)\n",
      "(75, 8)\n",
      "(26, 8)\n"
     ]
    }
   ],
   "source": [
    "# common, uncommon, rare, epic, legendary\n",
    "# 45%, 25%, 15%, 10%, 5%\n",
    "\n",
    "normal_df[\"score\"] = normal_df[\"score\"].rank(pct=True)\n",
    "\n",
    "common = normal_df.loc[normal_df[\"score\"] < 0.45/0.90]\n",
    "uncommon = normal_df.loc[(normal_df[\"score\"] >= 0.45/0.90) & (normal_df[\"score\"] < 0.70/0.90)]\n",
    "rare = normal_df.loc[(normal_df[\"score\"] >= 0.70/0.90) & (normal_df[\"score\"] < 0.85/0.90)]\n",
    "epic = normal_df.loc[(normal_df[\"score\"] >= 0.85/0.90) & (normal_df[\"score\"] < 0.95/0.90)]\n",
    "\n",
    "print(common.shape)\n",
    "print(uncommon.shape)\n",
    "print(rare.shape)\n",
    "print(epic.shape)\n",
    "\n"
   ]
  },
  {
   "cell_type": "code",
   "execution_count": 83,
   "id": "f23999d8",
   "metadata": {},
   "outputs": [],
   "source": [
    "common.to_json('../data/common.json', orient='records')\n",
    "uncommon.to_json('../data/uncommon.json', orient='records')\n",
    "rare.to_json('../data/rare.json', orient='records')\n",
    "epic.to_json('../data/epic.json', orient='records')\n",
    "legendary_df.to_json('../data/legendary.json', orient='records')"
   ]
  },
  {
   "cell_type": "code",
   "execution_count": null,
   "id": "a1124ec8",
   "metadata": {},
   "outputs": [],
   "source": []
  }
 ],
 "metadata": {
  "kernelspec": {
   "display_name": "cp",
   "language": "python",
   "name": "python3"
  },
  "language_info": {
   "codemirror_mode": {
    "name": "ipython",
    "version": 3
   },
   "file_extension": ".py",
   "mimetype": "text/x-python",
   "name": "python",
   "nbconvert_exporter": "python",
   "pygments_lexer": "ipython3",
   "version": "3.11.0"
  }
 },
 "nbformat": 4,
 "nbformat_minor": 5
}
